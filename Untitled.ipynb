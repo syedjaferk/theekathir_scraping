{
 "cells": [
  {
   "cell_type": "code",
   "execution_count": 2,
   "id": "832b58a3-0565-4b4b-b060-91ba2611b8be",
   "metadata": {},
   "outputs": [],
   "source": [
    "from bs4 import BeautifulSoup\n",
    "import requests\n"
   ]
  },
  {
   "cell_type": "code",
   "execution_count": 22,
   "id": "601875c7-e03f-40a5-9508-ac628958ac5f",
   "metadata": {},
   "outputs": [],
   "source": [
    "url = \"https://theekkathir.in/News/GetNewsListByCategory?CategoryName=india&SubCategoryName=&PageNo=\""
   ]
  },
  {
   "cell_type": "code",
   "execution_count": 4,
   "id": "18a98dd1-dee5-4652-bfad-11b663c4fb96",
   "metadata": {},
   "outputs": [],
   "source": [
    "page = 1"
   ]
  },
  {
   "cell_type": "code",
   "execution_count": 6,
   "id": "403688d0-738c-4aa5-92ad-bf5d2918a00e",
   "metadata": {},
   "outputs": [],
   "source": [
    "content = \"content\""
   ]
  },
  {
   "cell_type": "code",
   "execution_count": 7,
   "id": "d93d126c-1b4a-4d1c-9cb8-96054805e3f9",
   "metadata": {},
   "outputs": [],
   "source": [
    "import os"
   ]
  },
  {
   "cell_type": "code",
   "execution_count": 8,
   "id": "f3e53607-40b7-4e7b-9bca-f2c9cf4fd7c2",
   "metadata": {},
   "outputs": [],
   "source": [
    "def collect_page(url, path):\n",
    "    print(path)\n",
    "    response = requests.get(url)\n",
    "    soup = BeautifulSoup(response.content, \"html.parser\")\n",
    "    file = open(path, \"w\")\n",
    "    header = soup.find(\"div\", class_=\"zm-post-header\").text\n",
    "    file.write(header)\n",
    "    content = soup.find(\"div\", class_=\"zm-post-content\").text\n",
    "    file.write(content)\n",
    "    file.close()"
   ]
  },
  {
   "cell_type": "code",
   "execution_count": 24,
   "id": "4110610d-27c1-44b7-b77c-c73218442694",
   "metadata": {},
   "outputs": [
    {
     "name": "stdout",
     "output_type": "stream",
     "text": [
      "purl https://theekkathir.in/News/GetNewsListByCategory?CategoryName=india&SubCategoryName=&PageNo=1\n",
      "200\n",
      "India/இந்தியஅரசியலமைப்பின்முகப்புரைய\n",
      "India/நாடாளுமன்றஇருஅவைகளும்ஒத்திவைப்\n",
      "India/தொடரத்தகுதியற்றஆதித்யநாத்அரசு\n",
      "India/பொங்கல்அன்றுசி.ஏபவுண்டேசன்தேர்\n",
      "India/உலகைச்சுற்றி...-ஆர்.சிங்காரவேல\n",
      "India/தீக்கதிர்உலகசெய்திகள்\n",
      "India/மகாராஷ்டிராவில்மகாயுதிகூட்டணிய\n",
      "India/வரம்பற்றஅபராதம்தொழிலைஅழித்துவி\n",
      "India/தீக்கதிர்உலகசெய்திகள்\n",
      "India/அதானிஉடனானஒப்பந்தம்இலங்கை,வங்க\n",
      "purl https://theekkathir.in/News/GetNewsListByCategory?CategoryName=india&SubCategoryName=&PageNo=2\n",
      "200\n",
      "India/அமெரிக்காவரைநீளும்அதானியின்ஊழல\n",
      "India/தீக்கதிர்உலகசெய்திகள்\n",
      "India/இங்கிலாந்துகொடுத்தஏவுகணைகளைஉக்\n",
      "India/மனிதகுலத்தின்அழிவைநோக்கியபயங்க\n",
      "India/லெபனானில்200குழந்தைகளைபடுகொலைச\n",
      "India/மகாராஷ்டிரா,ஜார்க்கண்ட்தேர்தல்\n",
      "India/மகாராஷ்டிரா,ஜார்க்கண்ட்சட்டமன்\n",
      "India/தீக்கதிர்உலகசெய்திகள்\n",
      "India/மணிப்பூரின்மோசமானநிலைமைக்குஅரச\n",
      "India/பாலிஹோஸ்நிறுவனத்தில்வருமானவரித\n",
      "purl https://theekkathir.in/News/GetNewsListByCategory?CategoryName=india&SubCategoryName=&PageNo=3\n",
      "200\n",
      "India/தில்லி:10,12மாணவர்களுக்குஆன்லை\n",
      "India/தில்லியில்கடும்கட்டுப்பாடுகள்அ\n",
      "India/குஜராத்தில்ராகிங்கொடுமையால்மரு\n",
      "India/தீக்கதிர்உலகசெய்திகள்\n",
      "India/ஒத்துழைப்பைவலுப்படுத்தி,சவாலைச\n",
      "India/ஒரேநேரத்தில்17000ஊழியர்கள்பணிந\n",
      "India/தீக்கதிர்உலகசெய்திகள்\n",
      "India/வலென்சியாஅரசாங்கத்தைகண்டித்துல\n",
      "India/தீக்கதிர்உலகசெய்திகள்\n",
      "India/முதலாளிகளுக்காகபுதியதுறை:அமெ.வ\n",
      "purl https://theekkathir.in/News/GetNewsListByCategory?CategoryName=india&SubCategoryName=&PageNo=4\n",
      "200\n",
      "India/தீக்கதிர்உலகசெய்திகள்\n",
      "India/தீக்கதிர்உலகசெய்திகள்\n",
      "India/‘எனதுஒப்புதலுடனேபேஜர்தாக்குதல்\n",
      "India/உச்சநீதிமன்றத்தின்தலைமைநீதிபதி\n",
      "India/தீக்கதிர்உலகசெய்திகள்\n",
      "India/தீக்கதிர்உலகசெய்திகள்\n",
      "India/ஜி-20நாடுகளின்ராணுவச்செலவில்1ச\n",
      "India/கர்நாடகமுன்னாள்முதல்வர்எடியூரப\n",
      "India/செபிதலைவர்மாதவிபுச்சுக்குலோக்ப\n",
      "India/அலிகர்முஸ்லிம்பல்கலைக்கழகத்திற\n",
      "purl https://theekkathir.in/News/GetNewsListByCategory?CategoryName=india&SubCategoryName=&PageNo=5\n",
      "200\n",
      "India/சென்னையில்சர்வதேசபீச்வாலிபால்ப\n",
      "India/சிபிஎம்அரசியல்தலைமைக்குழுஉறுப்\n",
      "India/காங்கிரஸ்தலைவர்ராகுல்காந்தி\n"
     ]
    },
    {
     "ename": "AttributeError",
     "evalue": "'NoneType' object has no attribute 'text'",
     "output_type": "error",
     "traceback": [
      "\u001b[0;31m---------------------------------------------------------------------------\u001b[0m",
      "\u001b[0;31mAttributeError\u001b[0m                            Traceback (most recent call last)",
      "Cell \u001b[0;32mIn[24], line 15\u001b[0m\n\u001b[1;32m     13\u001b[0m     text \u001b[38;5;241m=\u001b[39m item\u001b[38;5;241m.\u001b[39mfind(\u001b[38;5;124m\"\u001b[39m\u001b[38;5;124ma\u001b[39m\u001b[38;5;124m\"\u001b[39m)\u001b[38;5;241m.\u001b[39mtext\u001b[38;5;241m.\u001b[39mreplace(\u001b[38;5;124m\"\u001b[39m\u001b[38;5;124m \u001b[39m\u001b[38;5;124m\"\u001b[39m, \u001b[38;5;124m\"\u001b[39m\u001b[38;5;124m\"\u001b[39m)[:\u001b[38;5;241m30\u001b[39m]\n\u001b[1;32m     14\u001b[0m     path \u001b[38;5;241m=\u001b[39m os\u001b[38;5;241m.\u001b[39mpath\u001b[38;5;241m.\u001b[39mjoin(\u001b[38;5;124m\"\u001b[39m\u001b[38;5;124mIndia\u001b[39m\u001b[38;5;124m\"\u001b[39m, text)\n\u001b[0;32m---> 15\u001b[0m     \u001b[43mcollect_page\u001b[49m\u001b[43m(\u001b[49m\u001b[43miurl\u001b[49m\u001b[43m,\u001b[49m\u001b[43m \u001b[49m\u001b[43mpath\u001b[49m\u001b[43m)\u001b[49m\n\u001b[1;32m     16\u001b[0m page \u001b[38;5;241m+\u001b[39m\u001b[38;5;241m=\u001b[39m \u001b[38;5;241m1\u001b[39m\n",
      "Cell \u001b[0;32mIn[8], line 6\u001b[0m, in \u001b[0;36mcollect_page\u001b[0;34m(url, path)\u001b[0m\n\u001b[1;32m      4\u001b[0m soup \u001b[38;5;241m=\u001b[39m BeautifulSoup(response\u001b[38;5;241m.\u001b[39mcontent, \u001b[38;5;124m\"\u001b[39m\u001b[38;5;124mhtml.parser\u001b[39m\u001b[38;5;124m\"\u001b[39m)\n\u001b[1;32m      5\u001b[0m file \u001b[38;5;241m=\u001b[39m \u001b[38;5;28mopen\u001b[39m(path, \u001b[38;5;124m\"\u001b[39m\u001b[38;5;124mw\u001b[39m\u001b[38;5;124m\"\u001b[39m)\n\u001b[0;32m----> 6\u001b[0m header \u001b[38;5;241m=\u001b[39m \u001b[43msoup\u001b[49m\u001b[38;5;241;43m.\u001b[39;49m\u001b[43mfind\u001b[49m\u001b[43m(\u001b[49m\u001b[38;5;124;43m\"\u001b[39;49m\u001b[38;5;124;43mdiv\u001b[39;49m\u001b[38;5;124;43m\"\u001b[39;49m\u001b[43m,\u001b[49m\u001b[43m \u001b[49m\u001b[43mclass_\u001b[49m\u001b[38;5;241;43m=\u001b[39;49m\u001b[38;5;124;43m\"\u001b[39;49m\u001b[38;5;124;43mzm-post-header\u001b[39;49m\u001b[38;5;124;43m\"\u001b[39;49m\u001b[43m)\u001b[49m\u001b[38;5;241;43m.\u001b[39;49m\u001b[43mtext\u001b[49m\n\u001b[1;32m      7\u001b[0m file\u001b[38;5;241m.\u001b[39mwrite(header)\n\u001b[1;32m      8\u001b[0m content \u001b[38;5;241m=\u001b[39m soup\u001b[38;5;241m.\u001b[39mfind(\u001b[38;5;124m\"\u001b[39m\u001b[38;5;124mdiv\u001b[39m\u001b[38;5;124m\"\u001b[39m, class_\u001b[38;5;241m=\u001b[39m\u001b[38;5;124m\"\u001b[39m\u001b[38;5;124mzm-post-content\u001b[39m\u001b[38;5;124m\"\u001b[39m)\u001b[38;5;241m.\u001b[39mtext\n",
      "\u001b[0;31mAttributeError\u001b[0m: 'NoneType' object has no attribute 'text'"
     ]
    }
   ],
   "source": [
    "page = 1\n",
    "while content is not None:\n",
    "    purl = url + str(page)\n",
    "    print(\"purl\", purl)\n",
    "    response = requests.get(purl)\n",
    "    print(response.status_code)\n",
    "    soup = BeautifulSoup(response.content, \"html.parser\")\n",
    "    h1 = soup.find_all(\"h1\", class_=\"zm-post-title\")\n",
    "    content = h1\n",
    "    aurls = []\n",
    "    for item in h1:\n",
    "        iurl = item.find(\"a\")['href']\n",
    "        text = item.find(\"a\").text.replace(\" \", \"\")[:30]\n",
    "        path = os.path.join(\"India\", text)\n",
    "        collect_page(iurl, path)\n",
    "    page += 1\n",
    "    \n",
    "    "
   ]
  },
  {
   "cell_type": "code",
   "execution_count": null,
   "id": "8f21189a-fa74-490f-a3ff-f1d0a2cd3bad",
   "metadata": {},
   "outputs": [],
   "source": []
  }
 ],
 "metadata": {
  "kernelspec": {
   "display_name": "Python 3 (ipykernel)",
   "language": "python",
   "name": "python3"
  },
  "language_info": {
   "codemirror_mode": {
    "name": "ipython",
    "version": 3
   },
   "file_extension": ".py",
   "mimetype": "text/x-python",
   "name": "python",
   "nbconvert_exporter": "python",
   "pygments_lexer": "ipython3",
   "version": "3.10.12"
  }
 },
 "nbformat": 4,
 "nbformat_minor": 5
}
