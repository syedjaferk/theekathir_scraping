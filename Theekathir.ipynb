{
 "cells": [
  {
   "cell_type": "code",
   "execution_count": 5,
   "id": "6c6d57a4-d604-4192-bea2-f96ece135713",
   "metadata": {},
   "outputs": [
    {
     "name": "stdout",
     "output_type": "stream",
     "text": [
      "Collecting lxml\n",
      "  Using cached lxml-5.3.0-cp310-cp310-manylinux_2_28_x86_64.whl (5.0 MB)\n",
      "Installing collected packages: lxml\n",
      "Successfully installed lxml-5.3.0\n"
     ]
    }
   ],
   "source": [
    "!pip install lxml"
   ]
  },
  {
   "cell_type": "code",
   "execution_count": 9,
   "id": "cdef1b17-b660-49ff-b443-8f1752310f87",
   "metadata": {},
   "outputs": [],
   "source": [
    "from bs4 import BeautifulSoup\n",
    "import requests"
   ]
  },
  {
   "cell_type": "code",
   "execution_count": 10,
   "id": "4d2b9bc5-1be0-4c39-bfc3-957d2681585f",
   "metadata": {},
   "outputs": [],
   "source": [
    "url = \"https://theekkathir.in/News/india\"\n",
    "response = requests.get(url)"
   ]
  },
  {
   "cell_type": "code",
   "execution_count": 11,
   "id": "298c4b8b-e18c-4156-b46a-0659e232b135",
   "metadata": {},
   "outputs": [
    {
     "data": {
      "text/plain": [
       "200"
      ]
     },
     "execution_count": 11,
     "metadata": {},
     "output_type": "execute_result"
    }
   ],
   "source": [
    "response.status_code\n"
   ]
  },
  {
   "cell_type": "code",
   "execution_count": 16,
   "id": "89203117-3e45-4618-9db5-795ba9fe7eff",
   "metadata": {},
   "outputs": [],
   "source": [
    "soup = BeautifulSoup(response.content, \"html.parser\")"
   ]
  },
  {
   "cell_type": "code",
   "execution_count": 22,
   "id": "84dcbdcb-0b20-466b-b4df-3a5e3640d892",
   "metadata": {},
   "outputs": [
    {
     "name": "stdout",
     "output_type": "stream",
     "text": [
      "https://theekkathir.in/News/india/new-delhi/sc-dismisses-pleas-challenging-inclusion-of-socialist-and-secular-in-constitutions-preamble\n",
      "https://theekkathir.in/News/india/new-delhi/parliament-adjourned-till-nov-27\n",
      "https://theekkathir.in/News/headlines/india/maharani-lakshmi-bai-medical-college-located-in-jhansi,-uttar-pradesh\n",
      "https://theekkathir.in/News/india/new-delhi/ca-foundation-exams-on-pongal---su-venkatesan-mp-condemns\n",
      "https://theekkathir.in/News/world/india/south-korea's-space-militarization\n",
      "https://theekkathir.in/News/world/india/palestinians-at-risk-of-starvation-without-food\n",
      "https://theekkathir.in/News/india/delhi/mahayudi-alliance-wins-in-maharashtra-and-india-alliance-wins-in-jharkhand!\n",
      "https://theekkathir.in/News/headlines/india/unlimited-fines-will-destroy-the-industry\n",
      "https://theekkathir.in/News/world/india/kenya-cancels-contract-with-adani\n",
      "https://theekkathir.in/News/world/india/agreement-with-adani-sri-lanka\n"
     ]
    }
   ],
   "source": [
    "b = soup.find(\"div\", class_=\"ArticleList\")\n",
    "h1 = b.find_all(\"h1\", class_=\"zm-post-title\")\n",
    "for item in h1:\n",
    "    print(item.find(\"a\")['href'])"
   ]
  },
  {
   "cell_type": "code",
   "execution_count": 23,
   "id": "40b6a59c-f01d-49ab-a2e5-839ca1b81ac2",
   "metadata": {},
   "outputs": [],
   "source": [
    "url = \"https://theekkathir.in/News/india/new-delhi/sc-dismisses-pleas-challenging-inclusion-of-socialist-and-secular-in-constitutions-preamble\""
   ]
  },
  {
   "cell_type": "code",
   "execution_count": 24,
   "id": "0b210d36-9d17-440d-adc9-64f2ed3081d3",
   "metadata": {},
   "outputs": [
    {
     "name": "stdout",
     "output_type": "stream",
     "text": [
      "\n",
      "இந்திய அரசியலமைப்பின் முகப்புரையில் இருந்து 'மதச்சார்பின்மை, சோசலிசம்’ வார்த்தைகளை நீக்கக்கோரிய வழக்கு தள்ளுபடி\n",
      "\n",
      "\n",
      "நமது நிருபர்\n",
      "நவம்பர் 25, 2024\n",
      "11/25/2024 5:05:30 PM\n",
      "\n",
      "\n",
      "\n"
     ]
    }
   ],
   "source": [
    "response = requests.get(url)\n",
    "soup = BeautifulSoup(response.content, \"html.parser\")\n",
    "header = soup.find(\"div\", class_=\"zm-post-header\").text\n",
    "print(header)"
   ]
  },
  {
   "cell_type": "code",
   "execution_count": 25,
   "id": "bb79a997-3112-4950-9fd4-29f743296ca5",
   "metadata": {},
   "outputs": [],
   "source": [
    "content = soup.find(\"div\", class_=\"zm-post-content\").text"
   ]
  },
  {
   "cell_type": "code",
   "execution_count": 26,
   "id": "9c081dcc-2c71-4ff5-ad53-160a45e8d543",
   "metadata": {},
   "outputs": [
    {
     "data": {
      "text/plain": [
       "'\\nஇந்திய அரசியலமைப்பு சட்டத்தின் முகப்புரையில் உள்ள \"மதச்சார்பின்மை\" மற்றும் \"சோசலிசம்\" ஆகிய வார்த்தைகளை நீக்கக்கோரிய வழக்கை உச்சநீதிமன்றம் தள்ளுபடி செய்தது.\\nஇந்திய அரசியலமைப்பு சட்டத்தின் முகப்புரையில் உள்ள மதச்சார்பின்மை மற்றும் சோசலிசம் ஆகிய வார்த்தைகளை நீக்க வேண்டும் என்று கூறி, பாஜக மூத்த தலைவர் சுப்பிரமணியன் சுவாமி, அஸ்வினி குமார் உபாத்யாய் உள்ளிட்டோர் உச்சநீதிமன்றத்தில் வழக்குத் தொடுத்திருந்தனர். இந்த வழக்கு கடந்த 21-ஆம் தேதியன்று நீதிபதிகள் சஞ்சீவ் கண்ணா மற்றும் சஞ்சய் குமார் ஆகியோர் முன்பு விசாரணைக்கு வந்தது.\\nஇந்த மனுவை விசாரித்த நீதிபதிகள், \"மதச்சார்பின்மை என்பது அரசியலமைப்பு சட்டத்தின் அடிப்படை கட்டமைப்பில் ஒருங்கிணைந்தது; இந்த நீதிமன்றத்தின் பல தீர்ப்புகள் மதச்சார்பின்மை அடிப்படையில் வழங்கப்பட்டுள்ளன; சோசலிசம் என்பதற்கு சமவாய்ப்பு என்றும், நாட்டின் வளங்கள் அனைவருக்கும் சமமாக வழங்கப்பட வேண்டும் என்றும் பொருள்படும். இதனை மேற்கத்தியப் பார்வையில் பார்க்க தேவையில்லை” என்று தெரிவித்து வழக்கை ஒத்திவைத்தனர்.\\xa0\\nஇந்த நிலையில், இந்திய அரசியலமைப்பு சட்டத்தின் முகப்புரையில் உள்ள \"மதச்சார்பின்மை\" மற்றும் \"சோசலிசம்\" ஆகிய வார்த்தைகளை நீக்க முடியாது என்று கூறி இவ்வழக்கை உச்சநீதிமன்றம் இன்று தள்ளுபடி செய்தது.\\n\\xa0\\n'"
      ]
     },
     "execution_count": 26,
     "metadata": {},
     "output_type": "execute_result"
    }
   ],
   "source": [
    "content"
   ]
  },
  {
   "cell_type": "code",
   "execution_count": null,
   "id": "8dd9db27-e75d-46fe-b537-d25101e25592",
   "metadata": {},
   "outputs": [],
   "source": [
    "6t99ikm0"
   ]
  }
 ],
 "metadata": {
  "kernelspec": {
   "display_name": "Python 3 (ipykernel)",
   "language": "python",
   "name": "python3"
  },
  "language_info": {
   "codemirror_mode": {
    "name": "ipython",
    "version": 3
   },
   "file_extension": ".py",
   "mimetype": "text/x-python",
   "name": "python",
   "nbconvert_exporter": "python",
   "pygments_lexer": "ipython3",
   "version": "3.10.12"
  }
 },
 "nbformat": 4,
 "nbformat_minor": 5
}
